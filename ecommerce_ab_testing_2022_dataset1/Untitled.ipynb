{
 "cells": [
  {
   "cell_type": "code",
   "execution_count": 138,
   "id": "bb158cee",
   "metadata": {},
   "outputs": [],
   "source": [
    "import warnings \n",
    "warnings.filterwarnings('ignore')\n",
    "\n",
    "import pandas as pd\n",
    "import numpy as np\n",
    "import matplotlib.pyplot as plt"
   ]
  },
  {
   "cell_type": "code",
   "execution_count": 171,
   "id": "08be8a30",
   "metadata": {},
   "outputs": [],
   "source": [
    "# https://www.kaggle.com/datasets/putdejudomthai/ecommerce-ab-testing-2022-dataset1"
   ]
  },
  {
   "cell_type": "markdown",
   "id": "905bf38d",
   "metadata": {},
   "source": [
    "### На сайте Kaggle доступно 2 файла:\n",
    "    - ab_data.csv, основные данные, 294480 строк\n",
    "    - countries.csv второстепенные данные с местоположением пользователей, 290586 строк\n",
    "##### Разница 3894 строк"
   ]
  },
  {
   "cell_type": "code",
   "execution_count": 3,
   "id": "84805c07",
   "metadata": {},
   "outputs": [
    {
     "name": "stdout",
     "output_type": "stream",
     "text": [
      "ab_data.csv.zip  countries.csv.zip  Untitled.ipynb\r\n"
     ]
    }
   ],
   "source": [
    "!ls"
   ]
  },
  {
   "cell_type": "code",
   "execution_count": 6,
   "id": "e46574f6",
   "metadata": {},
   "outputs": [
    {
     "name": "stdout",
     "output_type": "stream",
     "text": [
      "Archive:  ab_data.csv.zip\n",
      "  inflating: ab_data.csv             \n",
      "Archive:  countries.csv.zip\n",
      "  inflating: countries.csv           \n"
     ]
    }
   ],
   "source": [
    "!unzip ab_data.csv.zip\n",
    "!unzip countries.csv.zip"
   ]
  },
  {
   "cell_type": "code",
   "execution_count": 7,
   "id": "e30ac4ea",
   "metadata": {},
   "outputs": [
    {
     "name": "stdout",
     "output_type": "stream",
     "text": [
      "ab_data.csv  ab_data.csv.zip  countries.csv  countries.csv.zip\tUntitled.ipynb\r\n"
     ]
    }
   ],
   "source": [
    "!ls"
   ]
  },
  {
   "cell_type": "code",
   "execution_count": 18,
   "id": "3535da52",
   "metadata": {},
   "outputs": [],
   "source": [
    "ab_data = pd.read_csv('ab_data.csv')\n",
    "countries = pd.read_csv('countries.csv')"
   ]
  },
  {
   "cell_type": "code",
   "execution_count": 19,
   "id": "f335af2c",
   "metadata": {},
   "outputs": [
    {
     "data": {
      "text/html": [
       "<div>\n",
       "<style scoped>\n",
       "    .dataframe tbody tr th:only-of-type {\n",
       "        vertical-align: middle;\n",
       "    }\n",
       "\n",
       "    .dataframe tbody tr th {\n",
       "        vertical-align: top;\n",
       "    }\n",
       "\n",
       "    .dataframe thead th {\n",
       "        text-align: right;\n",
       "    }\n",
       "</style>\n",
       "<table border=\"1\" class=\"dataframe\">\n",
       "  <thead>\n",
       "    <tr style=\"text-align: right;\">\n",
       "      <th></th>\n",
       "      <th>user_id</th>\n",
       "      <th>timestamp</th>\n",
       "      <th>group</th>\n",
       "      <th>landing_page</th>\n",
       "      <th>converted</th>\n",
       "    </tr>\n",
       "  </thead>\n",
       "  <tbody>\n",
       "    <tr>\n",
       "      <th>0</th>\n",
       "      <td>851104</td>\n",
       "      <td>11:48.6</td>\n",
       "      <td>control</td>\n",
       "      <td>old_page</td>\n",
       "      <td>0</td>\n",
       "    </tr>\n",
       "    <tr>\n",
       "      <th>1</th>\n",
       "      <td>804228</td>\n",
       "      <td>01:45.2</td>\n",
       "      <td>control</td>\n",
       "      <td>old_page</td>\n",
       "      <td>0</td>\n",
       "    </tr>\n",
       "    <tr>\n",
       "      <th>2</th>\n",
       "      <td>661590</td>\n",
       "      <td>55:06.2</td>\n",
       "      <td>treatment</td>\n",
       "      <td>new_page</td>\n",
       "      <td>0</td>\n",
       "    </tr>\n",
       "    <tr>\n",
       "      <th>3</th>\n",
       "      <td>853541</td>\n",
       "      <td>28:03.1</td>\n",
       "      <td>treatment</td>\n",
       "      <td>new_page</td>\n",
       "      <td>0</td>\n",
       "    </tr>\n",
       "    <tr>\n",
       "      <th>4</th>\n",
       "      <td>864975</td>\n",
       "      <td>52:26.2</td>\n",
       "      <td>control</td>\n",
       "      <td>old_page</td>\n",
       "      <td>1</td>\n",
       "    </tr>\n",
       "  </tbody>\n",
       "</table>\n",
       "</div>"
      ],
      "text/plain": [
       "   user_id timestamp      group landing_page  converted\n",
       "0   851104   11:48.6    control     old_page          0\n",
       "1   804228   01:45.2    control     old_page          0\n",
       "2   661590   55:06.2  treatment     new_page          0\n",
       "3   853541   28:03.1  treatment     new_page          0\n",
       "4   864975   52:26.2    control     old_page          1"
      ]
     },
     "execution_count": 19,
     "metadata": {},
     "output_type": "execute_result"
    }
   ],
   "source": [
    "ab_data.head()"
   ]
  },
  {
   "cell_type": "code",
   "execution_count": 20,
   "id": "086b026e",
   "metadata": {},
   "outputs": [
    {
     "data": {
      "text/html": [
       "<div>\n",
       "<style scoped>\n",
       "    .dataframe tbody tr th:only-of-type {\n",
       "        vertical-align: middle;\n",
       "    }\n",
       "\n",
       "    .dataframe tbody tr th {\n",
       "        vertical-align: top;\n",
       "    }\n",
       "\n",
       "    .dataframe thead th {\n",
       "        text-align: right;\n",
       "    }\n",
       "</style>\n",
       "<table border=\"1\" class=\"dataframe\">\n",
       "  <thead>\n",
       "    <tr style=\"text-align: right;\">\n",
       "      <th></th>\n",
       "      <th>user_id</th>\n",
       "      <th>country</th>\n",
       "    </tr>\n",
       "  </thead>\n",
       "  <tbody>\n",
       "    <tr>\n",
       "      <th>0</th>\n",
       "      <td>834778</td>\n",
       "      <td>UK</td>\n",
       "    </tr>\n",
       "    <tr>\n",
       "      <th>1</th>\n",
       "      <td>928468</td>\n",
       "      <td>US</td>\n",
       "    </tr>\n",
       "    <tr>\n",
       "      <th>2</th>\n",
       "      <td>822059</td>\n",
       "      <td>UK</td>\n",
       "    </tr>\n",
       "    <tr>\n",
       "      <th>3</th>\n",
       "      <td>711597</td>\n",
       "      <td>UK</td>\n",
       "    </tr>\n",
       "    <tr>\n",
       "      <th>4</th>\n",
       "      <td>710616</td>\n",
       "      <td>UK</td>\n",
       "    </tr>\n",
       "  </tbody>\n",
       "</table>\n",
       "</div>"
      ],
      "text/plain": [
       "   user_id country\n",
       "0   834778      UK\n",
       "1   928468      US\n",
       "2   822059      UK\n",
       "3   711597      UK\n",
       "4   710616      UK"
      ]
     },
     "execution_count": 20,
     "metadata": {},
     "output_type": "execute_result"
    }
   ],
   "source": [
    "countries.head()"
   ]
  },
  {
   "cell_type": "code",
   "execution_count": 21,
   "id": "110bdbaf",
   "metadata": {},
   "outputs": [
    {
     "data": {
      "text/plain": [
       "((294480, 5), (290586, 2))"
      ]
     },
     "execution_count": 21,
     "metadata": {},
     "output_type": "execute_result"
    }
   ],
   "source": [
    "ab_data.shape, countries.shape"
   ]
  },
  {
   "cell_type": "code",
   "execution_count": 145,
   "id": "9f63d98c",
   "metadata": {},
   "outputs": [],
   "source": [
    "df = ab_data.merge(right=countries, how='left', on='user_id')"
   ]
  },
  {
   "cell_type": "code",
   "execution_count": null,
   "id": "6e96b24c",
   "metadata": {},
   "outputs": [],
   "source": []
  },
  {
   "cell_type": "markdown",
   "id": "64af9608",
   "metadata": {},
   "source": [
    "## Объединив таблицы, я ожидал увидель Null в столбце 'country', но их не оказалось. Тогда я решил посмотреть на количество пользователей, у которых количество просмотров больше одного. Их количество оказалось равным разнице количества строк из таблицы ab_data и countries."
   ]
  },
  {
   "cell_type": "code",
   "execution_count": 31,
   "id": "922d10fb",
   "metadata": {},
   "outputs": [
    {
     "data": {
      "text/plain": [
       "user_id         0\n",
       "timestamp       0\n",
       "group           0\n",
       "landing_page    0\n",
       "converted       0\n",
       "country         0\n",
       "dtype: int64"
      ]
     },
     "execution_count": 31,
     "metadata": {},
     "output_type": "execute_result"
    }
   ],
   "source": [
    "df.isna().sum()"
   ]
  },
  {
   "cell_type": "code",
   "execution_count": 45,
   "id": "34160f7a",
   "metadata": {},
   "outputs": [
    {
     "data": {
      "text/plain": [
       "(290585, 290585)"
      ]
     },
     "execution_count": 45,
     "metadata": {},
     "output_type": "execute_result"
    }
   ],
   "source": [
    "ab_data['user_id'].unique().size, df['user_id'].unique().size"
   ]
  },
  {
   "cell_type": "code",
   "execution_count": 52,
   "id": "3f55529d",
   "metadata": {},
   "outputs": [
    {
     "data": {
      "text/plain": [
       "user_id\n",
       "759899    4\n",
       "771082    2\n",
       "679326    2\n",
       "875210    2\n",
       "870418    2\n",
       "714496    2\n",
       "931907    2\n",
       "825266    2\n",
       "706601    2\n",
       "729669    2\n",
       "Name: timestamp, dtype: int64"
      ]
     },
     "execution_count": 52,
     "metadata": {},
     "output_type": "execute_result"
    }
   ],
   "source": [
    "df.groupby('user_id').count()['timestamp'] \\\n",
    "    .sort_values(ascending=False)[:10]"
   ]
  },
  {
   "cell_type": "code",
   "execution_count": 54,
   "id": "87dad555",
   "metadata": {},
   "outputs": [
    {
     "data": {
      "text/plain": [
       "1    286690\n",
       "2      3894\n",
       "4         1\n",
       "Name: timestamp, dtype: int64"
      ]
     },
     "execution_count": 54,
     "metadata": {},
     "output_type": "execute_result"
    }
   ],
   "source": [
    "df.groupby('user_id').count()['timestamp'].value_counts()"
   ]
  },
  {
   "cell_type": "code",
   "execution_count": null,
   "id": "b22a5a99",
   "metadata": {},
   "outputs": [],
   "source": []
  },
  {
   "cell_type": "code",
   "execution_count": 55,
   "id": "0dbb4216",
   "metadata": {},
   "outputs": [
    {
     "data": {
      "text/html": [
       "<div>\n",
       "<style scoped>\n",
       "    .dataframe tbody tr th:only-of-type {\n",
       "        vertical-align: middle;\n",
       "    }\n",
       "\n",
       "    .dataframe tbody tr th {\n",
       "        vertical-align: top;\n",
       "    }\n",
       "\n",
       "    .dataframe thead th {\n",
       "        text-align: right;\n",
       "    }\n",
       "</style>\n",
       "<table border=\"1\" class=\"dataframe\">\n",
       "  <thead>\n",
       "    <tr style=\"text-align: right;\">\n",
       "      <th></th>\n",
       "      <th>user_id</th>\n",
       "      <th>timestamp</th>\n",
       "      <th>group</th>\n",
       "      <th>landing_page</th>\n",
       "      <th>converted</th>\n",
       "      <th>country</th>\n",
       "    </tr>\n",
       "  </thead>\n",
       "  <tbody>\n",
       "    <tr>\n",
       "      <th>0</th>\n",
       "      <td>851104</td>\n",
       "      <td>11:48.6</td>\n",
       "      <td>control</td>\n",
       "      <td>old_page</td>\n",
       "      <td>0</td>\n",
       "      <td>US</td>\n",
       "    </tr>\n",
       "    <tr>\n",
       "      <th>1</th>\n",
       "      <td>804228</td>\n",
       "      <td>01:45.2</td>\n",
       "      <td>control</td>\n",
       "      <td>old_page</td>\n",
       "      <td>0</td>\n",
       "      <td>US</td>\n",
       "    </tr>\n",
       "    <tr>\n",
       "      <th>2</th>\n",
       "      <td>661590</td>\n",
       "      <td>55:06.2</td>\n",
       "      <td>treatment</td>\n",
       "      <td>new_page</td>\n",
       "      <td>0</td>\n",
       "      <td>US</td>\n",
       "    </tr>\n",
       "    <tr>\n",
       "      <th>3</th>\n",
       "      <td>853541</td>\n",
       "      <td>28:03.1</td>\n",
       "      <td>treatment</td>\n",
       "      <td>new_page</td>\n",
       "      <td>0</td>\n",
       "      <td>US</td>\n",
       "    </tr>\n",
       "    <tr>\n",
       "      <th>4</th>\n",
       "      <td>864975</td>\n",
       "      <td>52:26.2</td>\n",
       "      <td>control</td>\n",
       "      <td>old_page</td>\n",
       "      <td>1</td>\n",
       "      <td>US</td>\n",
       "    </tr>\n",
       "  </tbody>\n",
       "</table>\n",
       "</div>"
      ],
      "text/plain": [
       "   user_id timestamp      group landing_page  converted country\n",
       "0   851104   11:48.6    control     old_page          0      US\n",
       "1   804228   01:45.2    control     old_page          0      US\n",
       "2   661590   55:06.2  treatment     new_page          0      US\n",
       "3   853541   28:03.1  treatment     new_page          0      US\n",
       "4   864975   52:26.2    control     old_page          1      US"
      ]
     },
     "execution_count": 55,
     "metadata": {},
     "output_type": "execute_result"
    }
   ],
   "source": [
    "df.head()"
   ]
  },
  {
   "cell_type": "code",
   "execution_count": null,
   "id": "5308b572",
   "metadata": {},
   "outputs": [],
   "source": []
  },
  {
   "cell_type": "code",
   "execution_count": 65,
   "id": "5dd3a4be",
   "metadata": {},
   "outputs": [
    {
     "data": {
      "text/plain": [
       "(old_page    145274\n",
       " new_page      1928\n",
       " Name: landing_page, dtype: int64,\n",
       " new_page    145315\n",
       " old_page      1965\n",
       " Name: landing_page, dtype: int64)"
      ]
     },
     "execution_count": 65,
     "metadata": {},
     "output_type": "execute_result"
    }
   ],
   "source": [
    "df[df['group'] == 'control']['landing_page'].value_counts(), \\\n",
    "df[df['group'] == 'treatment']['landing_page'].value_counts()"
   ]
  },
  {
   "cell_type": "code",
   "execution_count": 68,
   "id": "b09f5991",
   "metadata": {},
   "outputs": [
    {
     "data": {
      "text/plain": [
       "3893"
      ]
     },
     "execution_count": 68,
     "metadata": {},
     "output_type": "execute_result"
    }
   ],
   "source": [
    "1928 + 1965 "
   ]
  },
  {
   "cell_type": "code",
   "execution_count": null,
   "id": "d79d7da0",
   "metadata": {},
   "outputs": [],
   "source": []
  },
  {
   "cell_type": "code",
   "execution_count": 88,
   "id": "834728be",
   "metadata": {},
   "outputs": [],
   "source": [
    "count_views = df.groupby('user_id').count()['timestamp']\n",
    "user_id_more_1_views = count_views[count_views > 1].index"
   ]
  },
  {
   "cell_type": "code",
   "execution_count": 89,
   "id": "2e5f493f",
   "metadata": {},
   "outputs": [
    {
     "data": {
      "text/plain": [
       "3895"
      ]
     },
     "execution_count": 89,
     "metadata": {},
     "output_type": "execute_result"
    }
   ],
   "source": [
    "user_id_more_1_views.size"
   ]
  },
  {
   "cell_type": "code",
   "execution_count": 92,
   "id": "ada9f273",
   "metadata": {},
   "outputs": [
    {
     "data": {
      "text/plain": [
       "old_page    143293\n",
       "Name: landing_page, dtype: int64"
      ]
     },
     "execution_count": 92,
     "metadata": {},
     "output_type": "execute_result"
    }
   ],
   "source": [
    "df[(df['group'] == 'control') & (~df['user_id'].isin(user_id_more_1_views))]['landing_page'].value_counts()"
   ]
  },
  {
   "cell_type": "code",
   "execution_count": 93,
   "id": "26fecb1a",
   "metadata": {},
   "outputs": [
    {
     "data": {
      "text/plain": [
       "new_page    143397\n",
       "Name: landing_page, dtype: int64"
      ]
     },
     "execution_count": 93,
     "metadata": {},
     "output_type": "execute_result"
    }
   ],
   "source": [
    "df[(df['group'] == 'treatment') & (~df['user_id'].isin(user_id_more_1_views))]['landing_page'].value_counts()"
   ]
  },
  {
   "cell_type": "code",
   "execution_count": null,
   "id": "3dc76a1f",
   "metadata": {},
   "outputs": [],
   "source": []
  },
  {
   "cell_type": "code",
   "execution_count": 94,
   "id": "c5a9ee96",
   "metadata": {},
   "outputs": [
    {
     "data": {
      "text/plain": [
       "old_page    1981\n",
       "new_page    1928\n",
       "Name: landing_page, dtype: int64"
      ]
     },
     "execution_count": 94,
     "metadata": {},
     "output_type": "execute_result"
    }
   ],
   "source": [
    "df[(df['group'] == 'control') & (df['user_id'].isin(user_id_more_1_views))]['landing_page'].value_counts()"
   ]
  },
  {
   "cell_type": "code",
   "execution_count": 95,
   "id": "106309ff",
   "metadata": {},
   "outputs": [
    {
     "data": {
      "text/plain": [
       "old_page    1965\n",
       "new_page    1918\n",
       "Name: landing_page, dtype: int64"
      ]
     },
     "execution_count": 95,
     "metadata": {},
     "output_type": "execute_result"
    }
   ],
   "source": [
    "df[(df['group'] == 'treatment') & (df['user_id'].isin(user_id_more_1_views))]['landing_page'].value_counts()"
   ]
  },
  {
   "cell_type": "code",
   "execution_count": 99,
   "id": "a0f1469b",
   "metadata": {},
   "outputs": [
    {
     "data": {
      "text/plain": [
       "(3883, 3909, 7792)"
      ]
     },
     "execution_count": 99,
     "metadata": {},
     "output_type": "execute_result"
    }
   ],
   "source": [
    "1965 + 1918, 1981 + 1928, 3883 + 3909"
   ]
  },
  {
   "cell_type": "code",
   "execution_count": 98,
   "id": "a0210385",
   "metadata": {},
   "outputs": [
    {
     "data": {
      "text/plain": [
       "7792"
      ]
     },
     "execution_count": 98,
     "metadata": {},
     "output_type": "execute_result"
    }
   ],
   "source": [
    "count_views[count_views > 1].sum()"
   ]
  },
  {
   "cell_type": "code",
   "execution_count": null,
   "id": "7cc1e0cd",
   "metadata": {},
   "outputs": [],
   "source": []
  },
  {
   "cell_type": "markdown",
   "id": "d03d3e62",
   "metadata": {},
   "source": [
    "## Таких пользователей нужно удалить из выборки потому, что они могут повлиять на p-value, увеличивая его."
   ]
  },
  {
   "cell_type": "code",
   "execution_count": 100,
   "id": "c514f961",
   "metadata": {},
   "outputs": [],
   "source": [
    "# df with user_id view == 1\n",
    "df = df[~df['user_id'].isin(user_id_more_1_views)]"
   ]
  },
  {
   "cell_type": "code",
   "execution_count": 101,
   "id": "9fff4f37",
   "metadata": {},
   "outputs": [
    {
     "data": {
      "text/plain": [
       "(286690, 6)"
      ]
     },
     "execution_count": 101,
     "metadata": {},
     "output_type": "execute_result"
    }
   ],
   "source": [
    "df.shape"
   ]
  },
  {
   "cell_type": "code",
   "execution_count": 103,
   "id": "e79a6fe7",
   "metadata": {},
   "outputs": [
    {
     "data": {
      "text/plain": [
       "(old_page    143293\n",
       " Name: landing_page, dtype: int64,\n",
       " new_page    143397\n",
       " Name: landing_page, dtype: int64)"
      ]
     },
     "execution_count": 103,
     "metadata": {},
     "output_type": "execute_result"
    }
   ],
   "source": [
    "df[(df['group'] == 'control')]['landing_page'].value_counts(), \\\n",
    "df[(df['group'] == 'treatment')]['landing_page'].value_counts()"
   ]
  },
  {
   "cell_type": "code",
   "execution_count": 104,
   "id": "7c94797f",
   "metadata": {},
   "outputs": [
    {
     "data": {
      "text/plain": [
       "user_id\n",
       "630000    1\n",
       "840746    1\n",
       "840752    1\n",
       "840751    1\n",
       "840750    1\n",
       "840749    1\n",
       "840748    1\n",
       "840747    1\n",
       "840745    1\n",
       "840733    1\n",
       "Name: timestamp, dtype: int64"
      ]
     },
     "execution_count": 104,
     "metadata": {},
     "output_type": "execute_result"
    }
   ],
   "source": [
    "df.groupby('user_id').count()['timestamp'] \\\n",
    "    .sort_values(ascending=False)[:10]"
   ]
  },
  {
   "cell_type": "code",
   "execution_count": null,
   "id": "7de12ab5",
   "metadata": {},
   "outputs": [],
   "source": []
  },
  {
   "cell_type": "code",
   "execution_count": 105,
   "id": "67ae6df7",
   "metadata": {},
   "outputs": [
    {
     "data": {
      "text/html": [
       "<div>\n",
       "<style scoped>\n",
       "    .dataframe tbody tr th:only-of-type {\n",
       "        vertical-align: middle;\n",
       "    }\n",
       "\n",
       "    .dataframe tbody tr th {\n",
       "        vertical-align: top;\n",
       "    }\n",
       "\n",
       "    .dataframe thead th {\n",
       "        text-align: right;\n",
       "    }\n",
       "</style>\n",
       "<table border=\"1\" class=\"dataframe\">\n",
       "  <thead>\n",
       "    <tr style=\"text-align: right;\">\n",
       "      <th></th>\n",
       "      <th>user_id</th>\n",
       "      <th>timestamp</th>\n",
       "      <th>group</th>\n",
       "      <th>landing_page</th>\n",
       "      <th>converted</th>\n",
       "      <th>country</th>\n",
       "    </tr>\n",
       "  </thead>\n",
       "  <tbody>\n",
       "    <tr>\n",
       "      <th>0</th>\n",
       "      <td>851104</td>\n",
       "      <td>11:48.6</td>\n",
       "      <td>control</td>\n",
       "      <td>old_page</td>\n",
       "      <td>0</td>\n",
       "      <td>US</td>\n",
       "    </tr>\n",
       "    <tr>\n",
       "      <th>1</th>\n",
       "      <td>804228</td>\n",
       "      <td>01:45.2</td>\n",
       "      <td>control</td>\n",
       "      <td>old_page</td>\n",
       "      <td>0</td>\n",
       "      <td>US</td>\n",
       "    </tr>\n",
       "    <tr>\n",
       "      <th>2</th>\n",
       "      <td>661590</td>\n",
       "      <td>55:06.2</td>\n",
       "      <td>treatment</td>\n",
       "      <td>new_page</td>\n",
       "      <td>0</td>\n",
       "      <td>US</td>\n",
       "    </tr>\n",
       "    <tr>\n",
       "      <th>3</th>\n",
       "      <td>853541</td>\n",
       "      <td>28:03.1</td>\n",
       "      <td>treatment</td>\n",
       "      <td>new_page</td>\n",
       "      <td>0</td>\n",
       "      <td>US</td>\n",
       "    </tr>\n",
       "    <tr>\n",
       "      <th>4</th>\n",
       "      <td>864975</td>\n",
       "      <td>52:26.2</td>\n",
       "      <td>control</td>\n",
       "      <td>old_page</td>\n",
       "      <td>1</td>\n",
       "      <td>US</td>\n",
       "    </tr>\n",
       "  </tbody>\n",
       "</table>\n",
       "</div>"
      ],
      "text/plain": [
       "   user_id timestamp      group landing_page  converted country\n",
       "0   851104   11:48.6    control     old_page          0      US\n",
       "1   804228   01:45.2    control     old_page          0      US\n",
       "2   661590   55:06.2  treatment     new_page          0      US\n",
       "3   853541   28:03.1  treatment     new_page          0      US\n",
       "4   864975   52:26.2    control     old_page          1      US"
      ]
     },
     "execution_count": 105,
     "metadata": {},
     "output_type": "execute_result"
    }
   ],
   "source": [
    "df.head()"
   ]
  },
  {
   "cell_type": "code",
   "execution_count": 106,
   "id": "ac8fd09f",
   "metadata": {},
   "outputs": [
    {
     "data": {
      "text/plain": [
       "landing_page\n",
       "new_page    0.118726\n",
       "old_page    0.120173\n",
       "Name: converted, dtype: float64"
      ]
     },
     "execution_count": 106,
     "metadata": {},
     "output_type": "execute_result"
    }
   ],
   "source": [
    "df.groupby('landing_page').mean()['converted']"
   ]
  },
  {
   "cell_type": "code",
   "execution_count": 107,
   "id": "99f36333",
   "metadata": {},
   "outputs": [
    {
     "data": {
      "text/plain": [
       "landing_page\n",
       "new_page    143397\n",
       "old_page    143293\n",
       "Name: converted, dtype: int64"
      ]
     },
     "execution_count": 107,
     "metadata": {},
     "output_type": "execute_result"
    }
   ],
   "source": [
    "df.groupby('landing_page').count()['converted']"
   ]
  },
  {
   "cell_type": "code",
   "execution_count": null,
   "id": "6d8a6ae6",
   "metadata": {},
   "outputs": [],
   "source": []
  },
  {
   "cell_type": "markdown",
   "id": "cb2a4846",
   "metadata": {},
   "source": [
    "## Подсчет p-value с помощью proportions_ztest"
   ]
  },
  {
   "cell_type": "code",
   "execution_count": 172,
   "id": "aeaef4af",
   "metadata": {},
   "outputs": [],
   "source": [
    "from statsmodels.stats.proportion import proportions_ztest"
   ]
  },
  {
   "cell_type": "code",
   "execution_count": 180,
   "id": "589d68fc",
   "metadata": {},
   "outputs": [
    {
     "data": {
      "text/plain": [
       "(1.3710504103206262, 0.08517962103794091)"
      ]
     },
     "execution_count": 180,
     "metadata": {},
     "output_type": "execute_result"
    }
   ],
   "source": [
    "a = df[df['landing_page'] == 'old_page']['converted']\n",
    "b = df[df['landing_page'] == 'new_page']['converted']\n",
    "zstat, pval = proportions_ztest([a.sum(), b.sum()], [a.size, b.size], alternative='larger')\n",
    "zstat, pval"
   ]
  },
  {
   "cell_type": "code",
   "execution_count": null,
   "id": "d9868fc5",
   "metadata": {},
   "outputs": [],
   "source": []
  },
  {
   "cell_type": "markdown",
   "id": "cb79fe90",
   "metadata": {},
   "source": [
    "## Подсчет zstat и p-value вручную"
   ]
  },
  {
   "cell_type": "code",
   "execution_count": 181,
   "id": "e10b6aa6",
   "metadata": {},
   "outputs": [],
   "source": [
    "m1 = a.mean()\n",
    "m2 = b.mean()\n",
    "m = np.concatenate((a.values, b.values)).mean()\n",
    "n1 = a.size\n",
    "n2 = b.size"
   ]
  },
  {
   "cell_type": "code",
   "execution_count": 182,
   "id": "e8d9e4d7",
   "metadata": {},
   "outputs": [
    {
     "data": {
      "text/plain": [
       "(0.12047759085568362, 0.11883756783004965, 0.11965756820450825, 147239, 147243)"
      ]
     },
     "execution_count": 182,
     "metadata": {},
     "output_type": "execute_result"
    }
   ],
   "source": [
    "m1, m2, m, n1, n2"
   ]
  },
  {
   "cell_type": "code",
   "execution_count": 197,
   "id": "4093dc02",
   "metadata": {},
   "outputs": [
    {
     "data": {
      "text/plain": [
       "1.3710504103206262"
      ]
     },
     "execution_count": 197,
     "metadata": {},
     "output_type": "execute_result"
    }
   ],
   "source": [
    "zstat = (m1-m2) / np.sqrt( m*(1-m) * (1/n1 + 1/n2) )\n",
    "zstat"
   ]
  },
  {
   "cell_type": "code",
   "execution_count": 198,
   "id": "809fcf4a",
   "metadata": {},
   "outputs": [],
   "source": [
    "import scipy.stats as sts"
   ]
  },
  {
   "cell_type": "code",
   "execution_count": 199,
   "id": "6779e843",
   "metadata": {},
   "outputs": [
    {
     "data": {
      "text/plain": [
       "0.08517962103794097"
      ]
     },
     "execution_count": 199,
     "metadata": {},
     "output_type": "execute_result"
    }
   ],
   "source": [
    "pval = 1 - sts.norm(0, 1).cdf(zstat)\n",
    "pval"
   ]
  },
  {
   "cell_type": "code",
   "execution_count": null,
   "id": "c3a815bb",
   "metadata": {},
   "outputs": [],
   "source": []
  },
  {
   "cell_type": "code",
   "execution_count": null,
   "id": "70fdf287",
   "metadata": {},
   "outputs": [],
   "source": []
  }
 ],
 "metadata": {
  "kernelspec": {
   "display_name": "Python 3 (ipykernel)",
   "language": "python",
   "name": "python3"
  },
  "language_info": {
   "codemirror_mode": {
    "name": "ipython",
    "version": 3
   },
   "file_extension": ".py",
   "mimetype": "text/x-python",
   "name": "python",
   "nbconvert_exporter": "python",
   "pygments_lexer": "ipython3",
   "version": "3.9.13"
  }
 },
 "nbformat": 4,
 "nbformat_minor": 5
}
